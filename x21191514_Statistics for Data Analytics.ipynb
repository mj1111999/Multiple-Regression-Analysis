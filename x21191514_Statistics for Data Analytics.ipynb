{
 "cells": [
  {
   "cell_type": "code",
   "execution_count": 46,
   "id": "39e8b97f",
   "metadata": {},
   "outputs": [],
   "source": [
    "kc_house_data <- read.csv('/Users/mohitjain/Desktop/kc_house_data.csv')"
   ]
  },
  {
   "cell_type": "code",
   "execution_count": 47,
   "id": "860bd1dd",
   "metadata": {},
   "outputs": [
    {
     "data": {
      "text/html": [
       "21613"
      ],
      "text/latex": [
       "21613"
      ],
      "text/markdown": [
       "21613"
      ],
      "text/plain": [
       "[1] 21613"
      ]
     },
     "metadata": {},
     "output_type": "display_data"
    }
   ],
   "source": [
    "nrow(kc_house_data)"
   ]
  },
  {
   "cell_type": "code",
   "execution_count": 48,
   "id": "21ee9213",
   "metadata": {},
   "outputs": [
    {
     "data": {
      "text/html": [
       "<table class=\"dataframe\">\n",
       "<caption>A data.frame: 6 × 21</caption>\n",
       "<thead>\n",
       "\t<tr><th></th><th scope=col>id</th><th scope=col>date</th><th scope=col>price</th><th scope=col>bedrooms</th><th scope=col>bathrooms</th><th scope=col>sqft_living</th><th scope=col>sqft_lot</th><th scope=col>floors</th><th scope=col>waterfront</th><th scope=col>view</th><th scope=col>⋯</th><th scope=col>grade</th><th scope=col>sqft_above</th><th scope=col>sqft_basement</th><th scope=col>yr_built</th><th scope=col>yr_renovated</th><th scope=col>zipcode</th><th scope=col>lat</th><th scope=col>long</th><th scope=col>sqft_living15</th><th scope=col>sqft_lot15</th></tr>\n",
       "\t<tr><th></th><th scope=col>&lt;dbl&gt;</th><th scope=col>&lt;chr&gt;</th><th scope=col>&lt;dbl&gt;</th><th scope=col>&lt;int&gt;</th><th scope=col>&lt;dbl&gt;</th><th scope=col>&lt;int&gt;</th><th scope=col>&lt;int&gt;</th><th scope=col>&lt;dbl&gt;</th><th scope=col>&lt;int&gt;</th><th scope=col>&lt;int&gt;</th><th scope=col>⋯</th><th scope=col>&lt;int&gt;</th><th scope=col>&lt;int&gt;</th><th scope=col>&lt;int&gt;</th><th scope=col>&lt;int&gt;</th><th scope=col>&lt;int&gt;</th><th scope=col>&lt;int&gt;</th><th scope=col>&lt;dbl&gt;</th><th scope=col>&lt;dbl&gt;</th><th scope=col>&lt;int&gt;</th><th scope=col>&lt;int&gt;</th></tr>\n",
       "</thead>\n",
       "<tbody>\n",
       "\t<tr><th scope=row>1</th><td>7129300520</td><td>20141013T000000</td><td> 221900</td><td>3</td><td>1.00</td><td>1180</td><td>  5650</td><td>1</td><td>0</td><td>0</td><td>⋯</td><td> 7</td><td>1180</td><td>   0</td><td>1955</td><td>   0</td><td>98178</td><td>47.5112</td><td>-122.257</td><td>1340</td><td>  5650</td></tr>\n",
       "\t<tr><th scope=row>2</th><td>6414100192</td><td>20141209T000000</td><td> 538000</td><td>3</td><td>2.25</td><td>2570</td><td>  7242</td><td>2</td><td>0</td><td>0</td><td>⋯</td><td> 7</td><td>2170</td><td> 400</td><td>1951</td><td>1991</td><td>98125</td><td>47.7210</td><td>-122.319</td><td>1690</td><td>  7639</td></tr>\n",
       "\t<tr><th scope=row>3</th><td>5631500400</td><td>20150225T000000</td><td> 180000</td><td>2</td><td>1.00</td><td> 770</td><td> 10000</td><td>1</td><td>0</td><td>0</td><td>⋯</td><td> 6</td><td> 770</td><td>   0</td><td>1933</td><td>   0</td><td>98028</td><td>47.7379</td><td>-122.233</td><td>2720</td><td>  8062</td></tr>\n",
       "\t<tr><th scope=row>4</th><td>2487200875</td><td>20141209T000000</td><td> 604000</td><td>4</td><td>3.00</td><td>1960</td><td>  5000</td><td>1</td><td>0</td><td>0</td><td>⋯</td><td> 7</td><td>1050</td><td> 910</td><td>1965</td><td>   0</td><td>98136</td><td>47.5208</td><td>-122.393</td><td>1360</td><td>  5000</td></tr>\n",
       "\t<tr><th scope=row>5</th><td>1954400510</td><td>20150218T000000</td><td> 510000</td><td>3</td><td>2.00</td><td>1680</td><td>  8080</td><td>1</td><td>0</td><td>0</td><td>⋯</td><td> 8</td><td>1680</td><td>   0</td><td>1987</td><td>   0</td><td>98074</td><td>47.6168</td><td>-122.045</td><td>1800</td><td>  7503</td></tr>\n",
       "\t<tr><th scope=row>6</th><td>7237550310</td><td>20140512T000000</td><td>1225000</td><td>4</td><td>4.50</td><td>5420</td><td>101930</td><td>1</td><td>0</td><td>0</td><td>⋯</td><td>11</td><td>3890</td><td>1530</td><td>2001</td><td>   0</td><td>98053</td><td>47.6561</td><td>-122.005</td><td>4760</td><td>101930</td></tr>\n",
       "</tbody>\n",
       "</table>\n"
      ],
      "text/latex": [
       "A data.frame: 6 × 21\n",
       "\\begin{tabular}{r|lllllllllllllllllllll}\n",
       "  & id & date & price & bedrooms & bathrooms & sqft\\_living & sqft\\_lot & floors & waterfront & view & ⋯ & grade & sqft\\_above & sqft\\_basement & yr\\_built & yr\\_renovated & zipcode & lat & long & sqft\\_living15 & sqft\\_lot15\\\\\n",
       "  & <dbl> & <chr> & <dbl> & <int> & <dbl> & <int> & <int> & <dbl> & <int> & <int> & ⋯ & <int> & <int> & <int> & <int> & <int> & <int> & <dbl> & <dbl> & <int> & <int>\\\\\n",
       "\\hline\n",
       "\t1 & 7129300520 & 20141013T000000 &  221900 & 3 & 1.00 & 1180 &   5650 & 1 & 0 & 0 & ⋯ &  7 & 1180 &    0 & 1955 &    0 & 98178 & 47.5112 & -122.257 & 1340 &   5650\\\\\n",
       "\t2 & 6414100192 & 20141209T000000 &  538000 & 3 & 2.25 & 2570 &   7242 & 2 & 0 & 0 & ⋯ &  7 & 2170 &  400 & 1951 & 1991 & 98125 & 47.7210 & -122.319 & 1690 &   7639\\\\\n",
       "\t3 & 5631500400 & 20150225T000000 &  180000 & 2 & 1.00 &  770 &  10000 & 1 & 0 & 0 & ⋯ &  6 &  770 &    0 & 1933 &    0 & 98028 & 47.7379 & -122.233 & 2720 &   8062\\\\\n",
       "\t4 & 2487200875 & 20141209T000000 &  604000 & 4 & 3.00 & 1960 &   5000 & 1 & 0 & 0 & ⋯ &  7 & 1050 &  910 & 1965 &    0 & 98136 & 47.5208 & -122.393 & 1360 &   5000\\\\\n",
       "\t5 & 1954400510 & 20150218T000000 &  510000 & 3 & 2.00 & 1680 &   8080 & 1 & 0 & 0 & ⋯ &  8 & 1680 &    0 & 1987 &    0 & 98074 & 47.6168 & -122.045 & 1800 &   7503\\\\\n",
       "\t6 & 7237550310 & 20140512T000000 & 1225000 & 4 & 4.50 & 5420 & 101930 & 1 & 0 & 0 & ⋯ & 11 & 3890 & 1530 & 2001 &    0 & 98053 & 47.6561 & -122.005 & 4760 & 101930\\\\\n",
       "\\end{tabular}\n"
      ],
      "text/markdown": [
       "\n",
       "A data.frame: 6 × 21\n",
       "\n",
       "| <!--/--> | id &lt;dbl&gt; | date &lt;chr&gt; | price &lt;dbl&gt; | bedrooms &lt;int&gt; | bathrooms &lt;dbl&gt; | sqft_living &lt;int&gt; | sqft_lot &lt;int&gt; | floors &lt;dbl&gt; | waterfront &lt;int&gt; | view &lt;int&gt; | ⋯ ⋯ | grade &lt;int&gt; | sqft_above &lt;int&gt; | sqft_basement &lt;int&gt; | yr_built &lt;int&gt; | yr_renovated &lt;int&gt; | zipcode &lt;int&gt; | lat &lt;dbl&gt; | long &lt;dbl&gt; | sqft_living15 &lt;int&gt; | sqft_lot15 &lt;int&gt; |\n",
       "|---|---|---|---|---|---|---|---|---|---|---|---|---|---|---|---|---|---|---|---|---|---|\n",
       "| 1 | 7129300520 | 20141013T000000 |  221900 | 3 | 1.00 | 1180 |   5650 | 1 | 0 | 0 | ⋯ |  7 | 1180 |    0 | 1955 |    0 | 98178 | 47.5112 | -122.257 | 1340 |   5650 |\n",
       "| 2 | 6414100192 | 20141209T000000 |  538000 | 3 | 2.25 | 2570 |   7242 | 2 | 0 | 0 | ⋯ |  7 | 2170 |  400 | 1951 | 1991 | 98125 | 47.7210 | -122.319 | 1690 |   7639 |\n",
       "| 3 | 5631500400 | 20150225T000000 |  180000 | 2 | 1.00 |  770 |  10000 | 1 | 0 | 0 | ⋯ |  6 |  770 |    0 | 1933 |    0 | 98028 | 47.7379 | -122.233 | 2720 |   8062 |\n",
       "| 4 | 2487200875 | 20141209T000000 |  604000 | 4 | 3.00 | 1960 |   5000 | 1 | 0 | 0 | ⋯ |  7 | 1050 |  910 | 1965 |    0 | 98136 | 47.5208 | -122.393 | 1360 |   5000 |\n",
       "| 5 | 1954400510 | 20150218T000000 |  510000 | 3 | 2.00 | 1680 |   8080 | 1 | 0 | 0 | ⋯ |  8 | 1680 |    0 | 1987 |    0 | 98074 | 47.6168 | -122.045 | 1800 |   7503 |\n",
       "| 6 | 7237550310 | 20140512T000000 | 1225000 | 4 | 4.50 | 5420 | 101930 | 1 | 0 | 0 | ⋯ | 11 | 3890 | 1530 | 2001 |    0 | 98053 | 47.6561 | -122.005 | 4760 | 101930 |\n",
       "\n"
      ],
      "text/plain": [
       "  id         date            price   bedrooms bathrooms sqft_living sqft_lot\n",
       "1 7129300520 20141013T000000  221900 3        1.00      1180          5650  \n",
       "2 6414100192 20141209T000000  538000 3        2.25      2570          7242  \n",
       "3 5631500400 20150225T000000  180000 2        1.00       770         10000  \n",
       "4 2487200875 20141209T000000  604000 4        3.00      1960          5000  \n",
       "5 1954400510 20150218T000000  510000 3        2.00      1680          8080  \n",
       "6 7237550310 20140512T000000 1225000 4        4.50      5420        101930  \n",
       "  floors waterfront view ⋯ grade sqft_above sqft_basement yr_built yr_renovated\n",
       "1 1      0          0    ⋯  7    1180          0          1955        0        \n",
       "2 2      0          0    ⋯  7    2170        400          1951     1991        \n",
       "3 1      0          0    ⋯  6     770          0          1933        0        \n",
       "4 1      0          0    ⋯  7    1050        910          1965        0        \n",
       "5 1      0          0    ⋯  8    1680          0          1987        0        \n",
       "6 1      0          0    ⋯ 11    3890       1530          2001        0        \n",
       "  zipcode lat     long     sqft_living15 sqft_lot15\n",
       "1 98178   47.5112 -122.257 1340            5650    \n",
       "2 98125   47.7210 -122.319 1690            7639    \n",
       "3 98028   47.7379 -122.233 2720            8062    \n",
       "4 98136   47.5208 -122.393 1360            5000    \n",
       "5 98074   47.6168 -122.045 1800            7503    \n",
       "6 98053   47.6561 -122.005 4760          101930    "
      ]
     },
     "metadata": {},
     "output_type": "display_data"
    }
   ],
   "source": [
    "head(kc_house_data)"
   ]
  },
  {
   "cell_type": "code",
   "execution_count": 49,
   "id": "47a153ca",
   "metadata": {},
   "outputs": [
    {
     "name": "stdout",
     "output_type": "stream",
     "text": [
      "'data.frame':\t21613 obs. of  21 variables:\n",
      " $ id           : num  7.13e+09 6.41e+09 5.63e+09 2.49e+09 1.95e+09 ...\n",
      " $ date         : chr  \"20141013T000000\" \"20141209T000000\" \"20150225T000000\" \"20141209T000000\" ...\n",
      " $ price        : num  221900 538000 180000 604000 510000 ...\n",
      " $ bedrooms     : int  3 3 2 4 3 4 3 3 3 3 ...\n",
      " $ bathrooms    : num  1 2.25 1 3 2 4.5 2.25 1.5 1 2.5 ...\n",
      " $ sqft_living  : int  1180 2570 770 1960 1680 5420 1715 1060 1780 1890 ...\n",
      " $ sqft_lot     : int  5650 7242 10000 5000 8080 101930 6819 9711 7470 6560 ...\n",
      " $ floors       : num  1 2 1 1 1 1 2 1 1 2 ...\n",
      " $ waterfront   : int  0 0 0 0 0 0 0 0 0 0 ...\n",
      " $ view         : int  0 0 0 0 0 0 0 0 0 0 ...\n",
      " $ condition    : int  3 3 3 5 3 3 3 3 3 3 ...\n",
      " $ grade        : int  7 7 6 7 8 11 7 7 7 7 ...\n",
      " $ sqft_above   : int  1180 2170 770 1050 1680 3890 1715 1060 1050 1890 ...\n",
      " $ sqft_basement: int  0 400 0 910 0 1530 0 0 730 0 ...\n",
      " $ yr_built     : int  1955 1951 1933 1965 1987 2001 1995 1963 1960 2003 ...\n",
      " $ yr_renovated : int  0 1991 0 0 0 0 0 0 0 0 ...\n",
      " $ zipcode      : int  98178 98125 98028 98136 98074 98053 98003 98198 98146 98038 ...\n",
      " $ lat          : num  47.5 47.7 47.7 47.5 47.6 ...\n",
      " $ long         : num  -122 -122 -122 -122 -122 ...\n",
      " $ sqft_living15: int  1340 1690 2720 1360 1800 4760 2238 1650 1780 2390 ...\n",
      " $ sqft_lot15   : int  5650 7639 8062 5000 7503 101930 6819 9711 8113 7570 ...\n"
     ]
    }
   ],
   "source": [
    "str(kc_house_data)"
   ]
  },
  {
   "cell_type": "code",
   "execution_count": 50,
   "id": "889eca56",
   "metadata": {},
   "outputs": [],
   "source": [
    "kc_house_data$date = as.Date(kc_house_data$date,\"%Y%m%dT000000\")\n",
    "kc_house_data$grade = as.numeric(kc_house_data$grade)"
   ]
  },
  {
   "cell_type": "code",
   "execution_count": 51,
   "id": "ae5eb8df",
   "metadata": {},
   "outputs": [
    {
     "data": {
      "text/html": [
       "<table class=\"dataframe\">\n",
       "<caption>A data.frame: 6 × 21</caption>\n",
       "<thead>\n",
       "\t<tr><th></th><th scope=col>id</th><th scope=col>date</th><th scope=col>price</th><th scope=col>bedrooms</th><th scope=col>bathrooms</th><th scope=col>sqft_living</th><th scope=col>sqft_lot</th><th scope=col>floors</th><th scope=col>waterfront</th><th scope=col>view</th><th scope=col>⋯</th><th scope=col>grade</th><th scope=col>sqft_above</th><th scope=col>sqft_basement</th><th scope=col>yr_built</th><th scope=col>yr_renovated</th><th scope=col>zipcode</th><th scope=col>lat</th><th scope=col>long</th><th scope=col>sqft_living15</th><th scope=col>sqft_lot15</th></tr>\n",
       "\t<tr><th></th><th scope=col>&lt;dbl&gt;</th><th scope=col>&lt;date&gt;</th><th scope=col>&lt;dbl&gt;</th><th scope=col>&lt;int&gt;</th><th scope=col>&lt;dbl&gt;</th><th scope=col>&lt;int&gt;</th><th scope=col>&lt;int&gt;</th><th scope=col>&lt;dbl&gt;</th><th scope=col>&lt;int&gt;</th><th scope=col>&lt;int&gt;</th><th scope=col>⋯</th><th scope=col>&lt;dbl&gt;</th><th scope=col>&lt;int&gt;</th><th scope=col>&lt;int&gt;</th><th scope=col>&lt;int&gt;</th><th scope=col>&lt;int&gt;</th><th scope=col>&lt;int&gt;</th><th scope=col>&lt;dbl&gt;</th><th scope=col>&lt;dbl&gt;</th><th scope=col>&lt;int&gt;</th><th scope=col>&lt;int&gt;</th></tr>\n",
       "</thead>\n",
       "<tbody>\n",
       "\t<tr><th scope=row>1</th><td>7129300520</td><td>2014-10-13</td><td> 221900</td><td>3</td><td>1.00</td><td>1180</td><td>  5650</td><td>1</td><td>0</td><td>0</td><td>⋯</td><td> 7</td><td>1180</td><td>   0</td><td>1955</td><td>   0</td><td>98178</td><td>47.5112</td><td>-122.257</td><td>1340</td><td>  5650</td></tr>\n",
       "\t<tr><th scope=row>2</th><td>6414100192</td><td>2014-12-09</td><td> 538000</td><td>3</td><td>2.25</td><td>2570</td><td>  7242</td><td>2</td><td>0</td><td>0</td><td>⋯</td><td> 7</td><td>2170</td><td> 400</td><td>1951</td><td>1991</td><td>98125</td><td>47.7210</td><td>-122.319</td><td>1690</td><td>  7639</td></tr>\n",
       "\t<tr><th scope=row>3</th><td>5631500400</td><td>2015-02-25</td><td> 180000</td><td>2</td><td>1.00</td><td> 770</td><td> 10000</td><td>1</td><td>0</td><td>0</td><td>⋯</td><td> 6</td><td> 770</td><td>   0</td><td>1933</td><td>   0</td><td>98028</td><td>47.7379</td><td>-122.233</td><td>2720</td><td>  8062</td></tr>\n",
       "\t<tr><th scope=row>4</th><td>2487200875</td><td>2014-12-09</td><td> 604000</td><td>4</td><td>3.00</td><td>1960</td><td>  5000</td><td>1</td><td>0</td><td>0</td><td>⋯</td><td> 7</td><td>1050</td><td> 910</td><td>1965</td><td>   0</td><td>98136</td><td>47.5208</td><td>-122.393</td><td>1360</td><td>  5000</td></tr>\n",
       "\t<tr><th scope=row>5</th><td>1954400510</td><td>2015-02-18</td><td> 510000</td><td>3</td><td>2.00</td><td>1680</td><td>  8080</td><td>1</td><td>0</td><td>0</td><td>⋯</td><td> 8</td><td>1680</td><td>   0</td><td>1987</td><td>   0</td><td>98074</td><td>47.6168</td><td>-122.045</td><td>1800</td><td>  7503</td></tr>\n",
       "\t<tr><th scope=row>6</th><td>7237550310</td><td>2014-05-12</td><td>1225000</td><td>4</td><td>4.50</td><td>5420</td><td>101930</td><td>1</td><td>0</td><td>0</td><td>⋯</td><td>11</td><td>3890</td><td>1530</td><td>2001</td><td>   0</td><td>98053</td><td>47.6561</td><td>-122.005</td><td>4760</td><td>101930</td></tr>\n",
       "</tbody>\n",
       "</table>\n"
      ],
      "text/latex": [
       "A data.frame: 6 × 21\n",
       "\\begin{tabular}{r|lllllllllllllllllllll}\n",
       "  & id & date & price & bedrooms & bathrooms & sqft\\_living & sqft\\_lot & floors & waterfront & view & ⋯ & grade & sqft\\_above & sqft\\_basement & yr\\_built & yr\\_renovated & zipcode & lat & long & sqft\\_living15 & sqft\\_lot15\\\\\n",
       "  & <dbl> & <date> & <dbl> & <int> & <dbl> & <int> & <int> & <dbl> & <int> & <int> & ⋯ & <dbl> & <int> & <int> & <int> & <int> & <int> & <dbl> & <dbl> & <int> & <int>\\\\\n",
       "\\hline\n",
       "\t1 & 7129300520 & 2014-10-13 &  221900 & 3 & 1.00 & 1180 &   5650 & 1 & 0 & 0 & ⋯ &  7 & 1180 &    0 & 1955 &    0 & 98178 & 47.5112 & -122.257 & 1340 &   5650\\\\\n",
       "\t2 & 6414100192 & 2014-12-09 &  538000 & 3 & 2.25 & 2570 &   7242 & 2 & 0 & 0 & ⋯ &  7 & 2170 &  400 & 1951 & 1991 & 98125 & 47.7210 & -122.319 & 1690 &   7639\\\\\n",
       "\t3 & 5631500400 & 2015-02-25 &  180000 & 2 & 1.00 &  770 &  10000 & 1 & 0 & 0 & ⋯ &  6 &  770 &    0 & 1933 &    0 & 98028 & 47.7379 & -122.233 & 2720 &   8062\\\\\n",
       "\t4 & 2487200875 & 2014-12-09 &  604000 & 4 & 3.00 & 1960 &   5000 & 1 & 0 & 0 & ⋯ &  7 & 1050 &  910 & 1965 &    0 & 98136 & 47.5208 & -122.393 & 1360 &   5000\\\\\n",
       "\t5 & 1954400510 & 2015-02-18 &  510000 & 3 & 2.00 & 1680 &   8080 & 1 & 0 & 0 & ⋯ &  8 & 1680 &    0 & 1987 &    0 & 98074 & 47.6168 & -122.045 & 1800 &   7503\\\\\n",
       "\t6 & 7237550310 & 2014-05-12 & 1225000 & 4 & 4.50 & 5420 & 101930 & 1 & 0 & 0 & ⋯ & 11 & 3890 & 1530 & 2001 &    0 & 98053 & 47.6561 & -122.005 & 4760 & 101930\\\\\n",
       "\\end{tabular}\n"
      ],
      "text/markdown": [
       "\n",
       "A data.frame: 6 × 21\n",
       "\n",
       "| <!--/--> | id &lt;dbl&gt; | date &lt;date&gt; | price &lt;dbl&gt; | bedrooms &lt;int&gt; | bathrooms &lt;dbl&gt; | sqft_living &lt;int&gt; | sqft_lot &lt;int&gt; | floors &lt;dbl&gt; | waterfront &lt;int&gt; | view &lt;int&gt; | ⋯ ⋯ | grade &lt;dbl&gt; | sqft_above &lt;int&gt; | sqft_basement &lt;int&gt; | yr_built &lt;int&gt; | yr_renovated &lt;int&gt; | zipcode &lt;int&gt; | lat &lt;dbl&gt; | long &lt;dbl&gt; | sqft_living15 &lt;int&gt; | sqft_lot15 &lt;int&gt; |\n",
       "|---|---|---|---|---|---|---|---|---|---|---|---|---|---|---|---|---|---|---|---|---|---|\n",
       "| 1 | 7129300520 | 2014-10-13 |  221900 | 3 | 1.00 | 1180 |   5650 | 1 | 0 | 0 | ⋯ |  7 | 1180 |    0 | 1955 |    0 | 98178 | 47.5112 | -122.257 | 1340 |   5650 |\n",
       "| 2 | 6414100192 | 2014-12-09 |  538000 | 3 | 2.25 | 2570 |   7242 | 2 | 0 | 0 | ⋯ |  7 | 2170 |  400 | 1951 | 1991 | 98125 | 47.7210 | -122.319 | 1690 |   7639 |\n",
       "| 3 | 5631500400 | 2015-02-25 |  180000 | 2 | 1.00 |  770 |  10000 | 1 | 0 | 0 | ⋯ |  6 |  770 |    0 | 1933 |    0 | 98028 | 47.7379 | -122.233 | 2720 |   8062 |\n",
       "| 4 | 2487200875 | 2014-12-09 |  604000 | 4 | 3.00 | 1960 |   5000 | 1 | 0 | 0 | ⋯ |  7 | 1050 |  910 | 1965 |    0 | 98136 | 47.5208 | -122.393 | 1360 |   5000 |\n",
       "| 5 | 1954400510 | 2015-02-18 |  510000 | 3 | 2.00 | 1680 |   8080 | 1 | 0 | 0 | ⋯ |  8 | 1680 |    0 | 1987 |    0 | 98074 | 47.6168 | -122.045 | 1800 |   7503 |\n",
       "| 6 | 7237550310 | 2014-05-12 | 1225000 | 4 | 4.50 | 5420 | 101930 | 1 | 0 | 0 | ⋯ | 11 | 3890 | 1530 | 2001 |    0 | 98053 | 47.6561 | -122.005 | 4760 | 101930 |\n",
       "\n"
      ],
      "text/plain": [
       "  id         date       price   bedrooms bathrooms sqft_living sqft_lot floors\n",
       "1 7129300520 2014-10-13  221900 3        1.00      1180          5650   1     \n",
       "2 6414100192 2014-12-09  538000 3        2.25      2570          7242   2     \n",
       "3 5631500400 2015-02-25  180000 2        1.00       770         10000   1     \n",
       "4 2487200875 2014-12-09  604000 4        3.00      1960          5000   1     \n",
       "5 1954400510 2015-02-18  510000 3        2.00      1680          8080   1     \n",
       "6 7237550310 2014-05-12 1225000 4        4.50      5420        101930   1     \n",
       "  waterfront view ⋯ grade sqft_above sqft_basement yr_built yr_renovated\n",
       "1 0          0    ⋯  7    1180          0          1955        0        \n",
       "2 0          0    ⋯  7    2170        400          1951     1991        \n",
       "3 0          0    ⋯  6     770          0          1933        0        \n",
       "4 0          0    ⋯  7    1050        910          1965        0        \n",
       "5 0          0    ⋯  8    1680          0          1987        0        \n",
       "6 0          0    ⋯ 11    3890       1530          2001        0        \n",
       "  zipcode lat     long     sqft_living15 sqft_lot15\n",
       "1 98178   47.5112 -122.257 1340            5650    \n",
       "2 98125   47.7210 -122.319 1690            7639    \n",
       "3 98028   47.7379 -122.233 2720            8062    \n",
       "4 98136   47.5208 -122.393 1360            5000    \n",
       "5 98074   47.6168 -122.045 1800            7503    \n",
       "6 98053   47.6561 -122.005 4760          101930    "
      ]
     },
     "metadata": {},
     "output_type": "display_data"
    }
   ],
   "source": [
    "head(kc_house_data)"
   ]
  },
  {
   "cell_type": "code",
   "execution_count": 52,
   "id": "c37b00c3",
   "metadata": {},
   "outputs": [
    {
     "data": {
      "text/html": [
       "0"
      ],
      "text/latex": [
       "0"
      ],
      "text/markdown": [
       "0"
      ],
      "text/plain": [
       "[1] 0"
      ]
     },
     "metadata": {},
     "output_type": "display_data"
    }
   ],
   "source": [
    "sum(is.na(kc_house_data))"
   ]
  },
  {
   "cell_type": "code",
   "execution_count": 53,
   "id": "25d63d71",
   "metadata": {},
   "outputs": [],
   "source": [
    "kc_house_data <- subset(kc_house_data, select = -c(id, date, sqft_above, sqft_basement))"
   ]
  },
  {
   "cell_type": "code",
   "execution_count": 54,
   "id": "21f60dc1",
   "metadata": {},
   "outputs": [
    {
     "data": {
      "text/html": [
       "<table class=\"dataframe\">\n",
       "<caption>A data.frame: 6 × 17</caption>\n",
       "<thead>\n",
       "\t<tr><th></th><th scope=col>price</th><th scope=col>bedrooms</th><th scope=col>bathrooms</th><th scope=col>sqft_living</th><th scope=col>sqft_lot</th><th scope=col>floors</th><th scope=col>waterfront</th><th scope=col>view</th><th scope=col>condition</th><th scope=col>grade</th><th scope=col>yr_built</th><th scope=col>yr_renovated</th><th scope=col>zipcode</th><th scope=col>lat</th><th scope=col>long</th><th scope=col>sqft_living15</th><th scope=col>sqft_lot15</th></tr>\n",
       "\t<tr><th></th><th scope=col>&lt;dbl&gt;</th><th scope=col>&lt;int&gt;</th><th scope=col>&lt;dbl&gt;</th><th scope=col>&lt;int&gt;</th><th scope=col>&lt;int&gt;</th><th scope=col>&lt;dbl&gt;</th><th scope=col>&lt;int&gt;</th><th scope=col>&lt;int&gt;</th><th scope=col>&lt;int&gt;</th><th scope=col>&lt;dbl&gt;</th><th scope=col>&lt;int&gt;</th><th scope=col>&lt;int&gt;</th><th scope=col>&lt;int&gt;</th><th scope=col>&lt;dbl&gt;</th><th scope=col>&lt;dbl&gt;</th><th scope=col>&lt;int&gt;</th><th scope=col>&lt;int&gt;</th></tr>\n",
       "</thead>\n",
       "<tbody>\n",
       "\t<tr><th scope=row>1</th><td> 221900</td><td>3</td><td>1.00</td><td>1180</td><td>  5650</td><td>1</td><td>0</td><td>0</td><td>3</td><td> 7</td><td>1955</td><td>   0</td><td>98178</td><td>47.5112</td><td>-122.257</td><td>1340</td><td>  5650</td></tr>\n",
       "\t<tr><th scope=row>2</th><td> 538000</td><td>3</td><td>2.25</td><td>2570</td><td>  7242</td><td>2</td><td>0</td><td>0</td><td>3</td><td> 7</td><td>1951</td><td>1991</td><td>98125</td><td>47.7210</td><td>-122.319</td><td>1690</td><td>  7639</td></tr>\n",
       "\t<tr><th scope=row>3</th><td> 180000</td><td>2</td><td>1.00</td><td> 770</td><td> 10000</td><td>1</td><td>0</td><td>0</td><td>3</td><td> 6</td><td>1933</td><td>   0</td><td>98028</td><td>47.7379</td><td>-122.233</td><td>2720</td><td>  8062</td></tr>\n",
       "\t<tr><th scope=row>4</th><td> 604000</td><td>4</td><td>3.00</td><td>1960</td><td>  5000</td><td>1</td><td>0</td><td>0</td><td>5</td><td> 7</td><td>1965</td><td>   0</td><td>98136</td><td>47.5208</td><td>-122.393</td><td>1360</td><td>  5000</td></tr>\n",
       "\t<tr><th scope=row>5</th><td> 510000</td><td>3</td><td>2.00</td><td>1680</td><td>  8080</td><td>1</td><td>0</td><td>0</td><td>3</td><td> 8</td><td>1987</td><td>   0</td><td>98074</td><td>47.6168</td><td>-122.045</td><td>1800</td><td>  7503</td></tr>\n",
       "\t<tr><th scope=row>6</th><td>1225000</td><td>4</td><td>4.50</td><td>5420</td><td>101930</td><td>1</td><td>0</td><td>0</td><td>3</td><td>11</td><td>2001</td><td>   0</td><td>98053</td><td>47.6561</td><td>-122.005</td><td>4760</td><td>101930</td></tr>\n",
       "</tbody>\n",
       "</table>\n"
      ],
      "text/latex": [
       "A data.frame: 6 × 17\n",
       "\\begin{tabular}{r|lllllllllllllllll}\n",
       "  & price & bedrooms & bathrooms & sqft\\_living & sqft\\_lot & floors & waterfront & view & condition & grade & yr\\_built & yr\\_renovated & zipcode & lat & long & sqft\\_living15 & sqft\\_lot15\\\\\n",
       "  & <dbl> & <int> & <dbl> & <int> & <int> & <dbl> & <int> & <int> & <int> & <dbl> & <int> & <int> & <int> & <dbl> & <dbl> & <int> & <int>\\\\\n",
       "\\hline\n",
       "\t1 &  221900 & 3 & 1.00 & 1180 &   5650 & 1 & 0 & 0 & 3 &  7 & 1955 &    0 & 98178 & 47.5112 & -122.257 & 1340 &   5650\\\\\n",
       "\t2 &  538000 & 3 & 2.25 & 2570 &   7242 & 2 & 0 & 0 & 3 &  7 & 1951 & 1991 & 98125 & 47.7210 & -122.319 & 1690 &   7639\\\\\n",
       "\t3 &  180000 & 2 & 1.00 &  770 &  10000 & 1 & 0 & 0 & 3 &  6 & 1933 &    0 & 98028 & 47.7379 & -122.233 & 2720 &   8062\\\\\n",
       "\t4 &  604000 & 4 & 3.00 & 1960 &   5000 & 1 & 0 & 0 & 5 &  7 & 1965 &    0 & 98136 & 47.5208 & -122.393 & 1360 &   5000\\\\\n",
       "\t5 &  510000 & 3 & 2.00 & 1680 &   8080 & 1 & 0 & 0 & 3 &  8 & 1987 &    0 & 98074 & 47.6168 & -122.045 & 1800 &   7503\\\\\n",
       "\t6 & 1225000 & 4 & 4.50 & 5420 & 101930 & 1 & 0 & 0 & 3 & 11 & 2001 &    0 & 98053 & 47.6561 & -122.005 & 4760 & 101930\\\\\n",
       "\\end{tabular}\n"
      ],
      "text/markdown": [
       "\n",
       "A data.frame: 6 × 17\n",
       "\n",
       "| <!--/--> | price &lt;dbl&gt; | bedrooms &lt;int&gt; | bathrooms &lt;dbl&gt; | sqft_living &lt;int&gt; | sqft_lot &lt;int&gt; | floors &lt;dbl&gt; | waterfront &lt;int&gt; | view &lt;int&gt; | condition &lt;int&gt; | grade &lt;dbl&gt; | yr_built &lt;int&gt; | yr_renovated &lt;int&gt; | zipcode &lt;int&gt; | lat &lt;dbl&gt; | long &lt;dbl&gt; | sqft_living15 &lt;int&gt; | sqft_lot15 &lt;int&gt; |\n",
       "|---|---|---|---|---|---|---|---|---|---|---|---|---|---|---|---|---|---|\n",
       "| 1 |  221900 | 3 | 1.00 | 1180 |   5650 | 1 | 0 | 0 | 3 |  7 | 1955 |    0 | 98178 | 47.5112 | -122.257 | 1340 |   5650 |\n",
       "| 2 |  538000 | 3 | 2.25 | 2570 |   7242 | 2 | 0 | 0 | 3 |  7 | 1951 | 1991 | 98125 | 47.7210 | -122.319 | 1690 |   7639 |\n",
       "| 3 |  180000 | 2 | 1.00 |  770 |  10000 | 1 | 0 | 0 | 3 |  6 | 1933 |    0 | 98028 | 47.7379 | -122.233 | 2720 |   8062 |\n",
       "| 4 |  604000 | 4 | 3.00 | 1960 |   5000 | 1 | 0 | 0 | 5 |  7 | 1965 |    0 | 98136 | 47.5208 | -122.393 | 1360 |   5000 |\n",
       "| 5 |  510000 | 3 | 2.00 | 1680 |   8080 | 1 | 0 | 0 | 3 |  8 | 1987 |    0 | 98074 | 47.6168 | -122.045 | 1800 |   7503 |\n",
       "| 6 | 1225000 | 4 | 4.50 | 5420 | 101930 | 1 | 0 | 0 | 3 | 11 | 2001 |    0 | 98053 | 47.6561 | -122.005 | 4760 | 101930 |\n",
       "\n"
      ],
      "text/plain": [
       "  price   bedrooms bathrooms sqft_living sqft_lot floors waterfront view\n",
       "1  221900 3        1.00      1180          5650   1      0          0   \n",
       "2  538000 3        2.25      2570          7242   2      0          0   \n",
       "3  180000 2        1.00       770         10000   1      0          0   \n",
       "4  604000 4        3.00      1960          5000   1      0          0   \n",
       "5  510000 3        2.00      1680          8080   1      0          0   \n",
       "6 1225000 4        4.50      5420        101930   1      0          0   \n",
       "  condition grade yr_built yr_renovated zipcode lat     long     sqft_living15\n",
       "1 3          7    1955        0         98178   47.5112 -122.257 1340         \n",
       "2 3          7    1951     1991         98125   47.7210 -122.319 1690         \n",
       "3 3          6    1933        0         98028   47.7379 -122.233 2720         \n",
       "4 5          7    1965        0         98136   47.5208 -122.393 1360         \n",
       "5 3          8    1987        0         98074   47.6168 -122.045 1800         \n",
       "6 3         11    2001        0         98053   47.6561 -122.005 4760         \n",
       "  sqft_lot15\n",
       "1   5650    \n",
       "2   7639    \n",
       "3   8062    \n",
       "4   5000    \n",
       "5   7503    \n",
       "6 101930    "
      ]
     },
     "metadata": {},
     "output_type": "display_data"
    }
   ],
   "source": [
    "head(kc_house_data)"
   ]
  },
  {
   "cell_type": "code",
   "execution_count": 55,
   "id": "b47b43b8",
   "metadata": {},
   "outputs": [
    {
     "name": "stderr",
     "output_type": "stream",
     "text": [
      "Warning message in kc_house_data$bedrooms > 1 && kc_house_data$bedrooms <= 6:\n",
      "“'length(x) = 21613 > 1' in coercion to 'logical(1)'”\n",
      "Warning message in kc_house_data$bedrooms > 1 && kc_house_data$bedrooms <= 6:\n",
      "“'length(x) = 21613 > 1' in coercion to 'logical(1)'”\n"
     ]
    }
   ],
   "source": [
    "kc_house_data <- filter(kc_house_data, kc_house_data$bedrooms > 1 && kc_house_data$bedrooms <= 6)"
   ]
  },
  {
   "cell_type": "code",
   "execution_count": 56,
   "id": "4e2bda9b",
   "metadata": {},
   "outputs": [
    {
     "data": {
      "text/html": [
       "<table class=\"dataframe\">\n",
       "<caption>A matrix: 6 × 17 of type dbl</caption>\n",
       "<tbody>\n",
       "\t<tr><td> 221900</td><td>3</td><td>1.00</td><td>1180</td><td>  5650</td><td>1</td><td>0</td><td>0</td><td>3</td><td> 7</td><td>1955</td><td>   0</td><td>98178</td><td>47.5112</td><td>-122.257</td><td>1340</td><td>  5650</td></tr>\n",
       "\t<tr><td> 538000</td><td>3</td><td>2.25</td><td>2570</td><td>  7242</td><td>2</td><td>0</td><td>0</td><td>3</td><td> 7</td><td>1951</td><td>1991</td><td>98125</td><td>47.7210</td><td>-122.319</td><td>1690</td><td>  7639</td></tr>\n",
       "\t<tr><td> 180000</td><td>2</td><td>1.00</td><td> 770</td><td> 10000</td><td>1</td><td>0</td><td>0</td><td>3</td><td> 6</td><td>1933</td><td>   0</td><td>98028</td><td>47.7379</td><td>-122.233</td><td>2720</td><td>  8062</td></tr>\n",
       "\t<tr><td> 604000</td><td>4</td><td>3.00</td><td>1960</td><td>  5000</td><td>1</td><td>0</td><td>0</td><td>5</td><td> 7</td><td>1965</td><td>   0</td><td>98136</td><td>47.5208</td><td>-122.393</td><td>1360</td><td>  5000</td></tr>\n",
       "\t<tr><td> 510000</td><td>3</td><td>2.00</td><td>1680</td><td>  8080</td><td>1</td><td>0</td><td>0</td><td>3</td><td> 8</td><td>1987</td><td>   0</td><td>98074</td><td>47.6168</td><td>-122.045</td><td>1800</td><td>  7503</td></tr>\n",
       "\t<tr><td>1225000</td><td>4</td><td>4.50</td><td>5420</td><td>101930</td><td>1</td><td>0</td><td>0</td><td>3</td><td>11</td><td>2001</td><td>   0</td><td>98053</td><td>47.6561</td><td>-122.005</td><td>4760</td><td>101930</td></tr>\n",
       "</tbody>\n",
       "</table>\n"
      ],
      "text/latex": [
       "A matrix: 6 × 17 of type dbl\n",
       "\\begin{tabular}{lllllllllllllllll}\n",
       "\t  221900 & 3 & 1.00 & 1180 &   5650 & 1 & 0 & 0 & 3 &  7 & 1955 &    0 & 98178 & 47.5112 & -122.257 & 1340 &   5650\\\\\n",
       "\t  538000 & 3 & 2.25 & 2570 &   7242 & 2 & 0 & 0 & 3 &  7 & 1951 & 1991 & 98125 & 47.7210 & -122.319 & 1690 &   7639\\\\\n",
       "\t  180000 & 2 & 1.00 &  770 &  10000 & 1 & 0 & 0 & 3 &  6 & 1933 &    0 & 98028 & 47.7379 & -122.233 & 2720 &   8062\\\\\n",
       "\t  604000 & 4 & 3.00 & 1960 &   5000 & 1 & 0 & 0 & 5 &  7 & 1965 &    0 & 98136 & 47.5208 & -122.393 & 1360 &   5000\\\\\n",
       "\t  510000 & 3 & 2.00 & 1680 &   8080 & 1 & 0 & 0 & 3 &  8 & 1987 &    0 & 98074 & 47.6168 & -122.045 & 1800 &   7503\\\\\n",
       "\t 1225000 & 4 & 4.50 & 5420 & 101930 & 1 & 0 & 0 & 3 & 11 & 2001 &    0 & 98053 & 47.6561 & -122.005 & 4760 & 101930\\\\\n",
       "\\end{tabular}\n"
      ],
      "text/markdown": [
       "\n",
       "A matrix: 6 × 17 of type dbl\n",
       "\n",
       "|  221900 | 3 | 1.00 | 1180 |   5650 | 1 | 0 | 0 | 3 |  7 | 1955 |    0 | 98178 | 47.5112 | -122.257 | 1340 |   5650 |\n",
       "|  538000 | 3 | 2.25 | 2570 |   7242 | 2 | 0 | 0 | 3 |  7 | 1951 | 1991 | 98125 | 47.7210 | -122.319 | 1690 |   7639 |\n",
       "|  180000 | 2 | 1.00 |  770 |  10000 | 1 | 0 | 0 | 3 |  6 | 1933 |    0 | 98028 | 47.7379 | -122.233 | 2720 |   8062 |\n",
       "|  604000 | 4 | 3.00 | 1960 |   5000 | 1 | 0 | 0 | 5 |  7 | 1965 |    0 | 98136 | 47.5208 | -122.393 | 1360 |   5000 |\n",
       "|  510000 | 3 | 2.00 | 1680 |   8080 | 1 | 0 | 0 | 3 |  8 | 1987 |    0 | 98074 | 47.6168 | -122.045 | 1800 |   7503 |\n",
       "| 1225000 | 4 | 4.50 | 5420 | 101930 | 1 | 0 | 0 | 3 | 11 | 2001 |    0 | 98053 | 47.6561 | -122.005 | 4760 | 101930 |\n",
       "\n"
      ],
      "text/plain": [
       "     [,1]    [,2] [,3] [,4] [,5]   [,6] [,7] [,8] [,9] [,10] [,11] [,12] [,13]\n",
       "[1,]  221900 3    1.00 1180   5650 1    0    0    3     7    1955     0  98178\n",
       "[2,]  538000 3    2.25 2570   7242 2    0    0    3     7    1951  1991  98125\n",
       "[3,]  180000 2    1.00  770  10000 1    0    0    3     6    1933     0  98028\n",
       "[4,]  604000 4    3.00 1960   5000 1    0    0    5     7    1965     0  98136\n",
       "[5,]  510000 3    2.00 1680   8080 1    0    0    3     8    1987     0  98074\n",
       "[6,] 1225000 4    4.50 5420 101930 1    0    0    3    11    2001     0  98053\n",
       "     [,14]   [,15]    [,16] [,17] \n",
       "[1,] 47.5112 -122.257 1340    5650\n",
       "[2,] 47.7210 -122.319 1690    7639\n",
       "[3,] 47.7379 -122.233 2720    8062\n",
       "[4,] 47.5208 -122.393 1360    5000\n",
       "[5,] 47.6168 -122.045 1800    7503\n",
       "[6,] 47.6561 -122.005 4760  101930"
      ]
     },
     "metadata": {},
     "output_type": "display_data"
    }
   ],
   "source": [
    "head(kc_house_data)"
   ]
  },
  {
   "cell_type": "code",
   "execution_count": 57,
   "id": "777f8a77",
   "metadata": {},
   "outputs": [],
   "source": [
    "histogram <- function(x)\n",
    "{\n",
    "    title <- paste(deparse(substitute(x), 500), collapse=\"\\n\")\n",
    "    sdx <- sd(x)\n",
    "    mx <- mean(x)\n",
    "    hist(x, prob=TRUE, main=paste(\"Histogram of \",title), xlim=c(mx-3*sdx, mx+3*sdx), ylim=c(0, 0.5/sdx))\n",
    "    curve(dnorm(x, mean=mx, sd=sdx), col='red', lwd=3, add=TRUE)\n",
    "}\n"
   ]
  },
  {
   "cell_type": "code",
   "execution_count": 58,
   "id": "a8830386",
   "metadata": {},
   "outputs": [
    {
     "ename": "ERROR",
     "evalue": "Error in kc_house_data$condition: $ operator is invalid for atomic vectors\n",
     "output_type": "error",
     "traceback": [
      "Error in kc_house_data$condition: $ operator is invalid for atomic vectors\nTraceback:\n",
      "1. histogram(kc_house_data$condition)",
      "2. sd(x)   # at line 4 of file <text>",
      "3. var(if (is.vector(x) || is.factor(x)) x else as.double(x), na.rm = na.rm)",
      "4. is.data.frame(x)"
     ]
    }
   ],
   "source": [
    "par(mfrow = c(3,2))\n",
    "histogram(kc_house_data$condition)\n",
    "histogram(kc_house_data$price)\n",
    "histogram(kc_house_data$sqft_living)\n",
    "histogram(kc_house_data$bedrooms)\n",
    "histogram(kc_house_data$bathrooms)\n",
    "histogram(kc_house_data$grade)\n",
    "histogram(kc_house_data$yr_built)\n",
    "histogram(kc_house_data$floors)\n",
    "boxplot(x = kc_house_data$waterfront)"
   ]
  },
  {
   "cell_type": "code",
   "execution_count": 32,
   "id": "834ac459",
   "metadata": {},
   "outputs": [
    {
     "ename": "ERROR",
     "evalue": "Error in kc_house_data$long: $ operator is invalid for atomic vectors\n",
     "output_type": "error",
     "traceback": [
      "Error in kc_house_data$long: $ operator is invalid for atomic vectors\nTraceback:\n",
      "1. plot(kc_house_data$long, kc_house_data$lat, pch = 19)"
     ]
    }
   ],
   "source": [
    "plot(kc_house_data$long, kc_house_data$lat, pch=19)"
   ]
  },
  {
   "cell_type": "code",
   "execution_count": 33,
   "id": "ec0e47df",
   "metadata": {},
   "outputs": [
    {
     "data": {
      "text/plain": [
       "       V1                V2               V3              V4       \n",
       " Min.   :  75000   Min.   : 0.000   Min.   :0.000   Min.   :  290  \n",
       " 1st Qu.: 321950   1st Qu.: 3.000   1st Qu.:1.750   1st Qu.: 1427  \n",
       " Median : 450000   Median : 3.000   Median :2.250   Median : 1910  \n",
       " Mean   : 540088   Mean   : 3.371   Mean   :2.115   Mean   : 2080  \n",
       " 3rd Qu.: 645000   3rd Qu.: 4.000   3rd Qu.:2.500   3rd Qu.: 2550  \n",
       " Max.   :7700000   Max.   :33.000   Max.   :8.000   Max.   :13540  \n",
       "       V5                V6              V7                 V8        \n",
       " Min.   :    520   Min.   :1.000   Min.   :0.000000   Min.   :0.0000  \n",
       " 1st Qu.:   5040   1st Qu.:1.000   1st Qu.:0.000000   1st Qu.:0.0000  \n",
       " Median :   7618   Median :1.500   Median :0.000000   Median :0.0000  \n",
       " Mean   :  15107   Mean   :1.494   Mean   :0.007542   Mean   :0.2343  \n",
       " 3rd Qu.:  10688   3rd Qu.:2.000   3rd Qu.:0.000000   3rd Qu.:0.0000  \n",
       " Max.   :1651359   Max.   :3.500   Max.   :1.000000   Max.   :4.0000  \n",
       "       V9             V10              V11            V12        \n",
       " Min.   :1.000   Min.   : 1.000   Min.   :1900   Min.   :   0.0  \n",
       " 1st Qu.:3.000   1st Qu.: 7.000   1st Qu.:1951   1st Qu.:   0.0  \n",
       " Median :3.000   Median : 7.000   Median :1975   Median :   0.0  \n",
       " Mean   :3.409   Mean   : 7.657   Mean   :1971   Mean   :  84.4  \n",
       " 3rd Qu.:4.000   3rd Qu.: 8.000   3rd Qu.:1997   3rd Qu.:   0.0  \n",
       " Max.   :5.000   Max.   :13.000   Max.   :2015   Max.   :2015.0  \n",
       "      V13             V14             V15              V16      \n",
       " Min.   :98001   Min.   :47.16   Min.   :-122.5   Min.   : 399  \n",
       " 1st Qu.:98033   1st Qu.:47.47   1st Qu.:-122.3   1st Qu.:1490  \n",
       " Median :98065   Median :47.57   Median :-122.2   Median :1840  \n",
       " Mean   :98078   Mean   :47.56   Mean   :-122.2   Mean   :1987  \n",
       " 3rd Qu.:98118   3rd Qu.:47.68   3rd Qu.:-122.1   3rd Qu.:2360  \n",
       " Max.   :98199   Max.   :47.78   Max.   :-121.3   Max.   :6210  \n",
       "      V17        \n",
       " Min.   :   651  \n",
       " 1st Qu.:  5100  \n",
       " Median :  7620  \n",
       " Mean   : 12768  \n",
       " 3rd Qu.: 10083  \n",
       " Max.   :871200  "
      ]
     },
     "metadata": {},
     "output_type": "display_data"
    }
   ],
   "source": [
    "summary(kc_house_data)"
   ]
  },
  {
   "cell_type": "code",
   "execution_count": 34,
   "id": "1cac3739",
   "metadata": {},
   "outputs": [
    {
     "data": {
      "text/html": [
       "<table class=\"dataframe\">\n",
       "<caption>A matrix: 3 × 3 of type dbl</caption>\n",
       "<thead>\n",
       "\t<tr><th></th><th scope=col>Series 1</th><th scope=col>Series 2</th><th scope=col>Series 3</th></tr>\n",
       "</thead>\n",
       "<tbody>\n",
       "\t<tr><th scope=row>Series 1</th><td>1.0000000</td><td>0.5158836</td><td>0.5766707</td></tr>\n",
       "\t<tr><th scope=row>Series 2</th><td>0.5158836</td><td>1.0000000</td><td>0.7546653</td></tr>\n",
       "\t<tr><th scope=row>Series 3</th><td>0.5766707</td><td>0.7546653</td><td>1.0000000</td></tr>\n",
       "</tbody>\n",
       "</table>\n"
      ],
      "text/latex": [
       "A matrix: 3 × 3 of type dbl\n",
       "\\begin{tabular}{r|lll}\n",
       "  & Series 1 & Series 2 & Series 3\\\\\n",
       "\\hline\n",
       "\tSeries 1 & 1.0000000 & 0.5158836 & 0.5766707\\\\\n",
       "\tSeries 2 & 0.5158836 & 1.0000000 & 0.7546653\\\\\n",
       "\tSeries 3 & 0.5766707 & 0.7546653 & 1.0000000\\\\\n",
       "\\end{tabular}\n"
      ],
      "text/markdown": [
       "\n",
       "A matrix: 3 × 3 of type dbl\n",
       "\n",
       "| <!--/--> | Series 1 | Series 2 | Series 3 |\n",
       "|---|---|---|---|\n",
       "| Series 1 | 1.0000000 | 0.5158836 | 0.5766707 |\n",
       "| Series 2 | 0.5158836 | 1.0000000 | 0.7546653 |\n",
       "| Series 3 | 0.5766707 | 0.7546653 | 1.0000000 |\n",
       "\n"
      ],
      "text/plain": [
       "         Series 1  Series 2  Series 3 \n",
       "Series 1 1.0000000 0.5158836 0.5766707\n",
       "Series 2 0.5158836 1.0000000 0.7546653\n",
       "Series 3 0.5766707 0.7546653 1.0000000"
      ]
     },
     "metadata": {},
     "output_type": "display_data"
    }
   ],
   "source": [
    "cor(kc_house_data[,2:4])"
   ]
  },
  {
   "cell_type": "code",
   "execution_count": 36,
   "id": "409d7899",
   "metadata": {},
   "outputs": [
    {
     "ename": "ERROR",
     "evalue": "Error in eval(predvars, data, env): object 'price' not found\n",
     "output_type": "error",
     "traceback": [
      "Error in eval(predvars, data, env): object 'price' not found\nTraceback:\n",
      "1. lm(price ~ bedrooms + sqft_living + bathrooms + grade + yr_built + \n .     waterfront + condition + sqft_lot + lat + view + long + yr_renovated, \n .     data = kc_house_data)",
      "2. eval(mf, parent.frame())",
      "3. eval(mf, parent.frame())",
      "4. stats::model.frame(formula = price ~ bedrooms + sqft_living + \n .     bathrooms + grade + yr_built + waterfront + condition + sqft_lot + \n .     lat + view + long + yr_renovated, data = kc_house_data, drop.unused.levels = TRUE)",
      "5. model.frame.default(formula = price ~ bedrooms + sqft_living + \n .     bathrooms + grade + yr_built + waterfront + condition + sqft_lot + \n .     lat + view + long + yr_renovated, data = kc_house_data, drop.unused.levels = TRUE)",
      "6. eval(predvars, data, env)",
      "7. eval(predvars, data, env)"
     ]
    }
   ],
   "source": [
    "Model <- lm( price ~ bedrooms + sqft_living + bathrooms + grade + yr_built + waterfront + condition + sqft_lot + lat + view + long + yr_renovated, data=kc_house_data)"
   ]
  },
  {
   "cell_type": "code",
   "execution_count": 37,
   "id": "935ff00e",
   "metadata": {},
   "outputs": [
    {
     "ename": "ERROR",
     "evalue": "Error in summary(Model): object 'Model' not found\n",
     "output_type": "error",
     "traceback": [
      "Error in summary(Model): object 'Model' not found\nTraceback:\n",
      "1. summary(Model)"
     ]
    }
   ],
   "source": [
    "summary(Model)"
   ]
  },
  {
   "cell_type": "code",
   "execution_count": 38,
   "id": "bb628025",
   "metadata": {},
   "outputs": [
    {
     "ename": "ERROR",
     "evalue": "Error in plot(Model): object 'Model' not found\n",
     "output_type": "error",
     "traceback": [
      "Error in plot(Model): object 'Model' not found\nTraceback:\n",
      "1. plot(Model)"
     ]
    }
   ],
   "source": [
    "par(mfrow=c(2,2))\n",
    "plot(Model)"
   ]
  },
  {
   "cell_type": "code",
   "execution_count": 39,
   "id": "8c494d3a",
   "metadata": {},
   "outputs": [
    {
     "ename": "ERROR",
     "evalue": "Error in rstandard(Model): object 'Model' not found\n",
     "output_type": "error",
     "traceback": [
      "Error in rstandard(Model): object 'Model' not found\nTraceback:\n",
      "1. rstandard(Model)"
     ]
    }
   ],
   "source": [
    "house.res <- rstandard(Model)"
   ]
  },
  {
   "cell_type": "code",
   "execution_count": 40,
   "id": "8645bacb",
   "metadata": {},
   "outputs": [
    {
     "ename": "ERROR",
     "evalue": "Error in eval(expr, envir, enclos): object 'house.res' not found\n",
     "output_type": "error",
     "traceback": [
      "Error in eval(expr, envir, enclos): object 'house.res' not found\nTraceback:\n"
     ]
    }
   ],
   "source": [
    "round(house.res,2)"
   ]
  },
  {
   "cell_type": "code",
   "execution_count": 41,
   "id": "89372a7c",
   "metadata": {},
   "outputs": [
    {
     "ename": "ERROR",
     "evalue": "Error in mean(house.res): object 'house.res' not found\n",
     "output_type": "error",
     "traceback": [
      "Error in mean(house.res): object 'house.res' not found\nTraceback:\n",
      "1. mean(house.res)"
     ]
    }
   ],
   "source": [
    "mean(house.res)"
   ]
  },
  {
   "cell_type": "code",
   "execution_count": 42,
   "id": "d9734a5b",
   "metadata": {},
   "outputs": [
    {
     "ename": "ERROR",
     "evalue": "Error in is.data.frame(x): object 'house.res' not found\n",
     "output_type": "error",
     "traceback": [
      "Error in is.data.frame(x): object 'house.res' not found\nTraceback:\n",
      "1. sd(house.res)",
      "2. var(if (is.vector(x) || is.factor(x)) x else as.double(x), na.rm = na.rm)",
      "3. is.data.frame(x)"
     ]
    }
   ],
   "source": [
    "sd(house.res)"
   ]
  },
  {
   "cell_type": "code",
   "execution_count": 43,
   "id": "022abdfe",
   "metadata": {},
   "outputs": [
    {
     "ename": "ERROR",
     "evalue": "Error in is.data.frame(x): object 'house.res' not found\n",
     "output_type": "error",
     "traceback": [
      "Error in is.data.frame(x): object 'house.res' not found\nTraceback:\n",
      "1. histogram(house.res)",
      "2. sd(x)   # at line 4 of file <text>",
      "3. var(if (is.vector(x) || is.factor(x)) x else as.double(x), na.rm = na.rm)",
      "4. is.data.frame(x)"
     ]
    }
   ],
   "source": [
    "par(mfrow=c(2,2))\n",
    "histogram(house.res)\n",
    "plot(house.res, pch=16, col='blue')\n",
    "abline(0,0, lw=4, col='red')\n",
    "qqnorm(house.res, pch = 16, ylab=\"Standardized Residuals\", xlab=\"Normal Scores\", main=\"Q-Q Plot of Standardised Residuals\",col=\"blue\")\n",
    "qqline(house.res, col='red', lw=4)"
   ]
  },
  {
   "cell_type": "code",
   "execution_count": 44,
   "id": "59d0c337",
   "metadata": {},
   "outputs": [
    {
     "ename": "ERROR",
     "evalue": "Error in stopifnot(is.numeric(x)): object 'house.res' not found\n",
     "output_type": "error",
     "traceback": [
      "Error in stopifnot(is.numeric(x)): object 'house.res' not found\nTraceback:\n",
      "1. shapiro.test(house.res)",
      "2. stopifnot(is.numeric(x))"
     ]
    }
   ],
   "source": [
    "shapiro.test(house.res)"
   ]
  },
  {
   "cell_type": "code",
   "execution_count": 45,
   "id": "3697b441",
   "metadata": {},
   "outputs": [
    {
     "ename": "ERROR",
     "evalue": "Error in eval(expr, envir, enclos): object 'Model' not found\n",
     "output_type": "error",
     "traceback": [
      "Error in eval(expr, envir, enclos): object 'Model' not found\nTraceback:\n"
     ]
    }
   ],
   "source": [
    "Model$coefficients"
   ]
  },
  {
   "cell_type": "code",
   "execution_count": null,
   "id": "5276dcfe",
   "metadata": {},
   "outputs": [],
   "source": []
  }
 ],
 "metadata": {
  "kernelspec": {
   "display_name": "R",
   "language": "R",
   "name": "ir"
  },
  "language_info": {
   "codemirror_mode": "r",
   "file_extension": ".r",
   "mimetype": "text/x-r-source",
   "name": "R",
   "pygments_lexer": "r",
   "version": "4.2.1"
  }
 },
 "nbformat": 4,
 "nbformat_minor": 5
}
